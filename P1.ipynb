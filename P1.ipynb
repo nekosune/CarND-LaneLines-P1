{
 "cells": [
  {
   "cell_type": "markdown",
   "metadata": {},
   "source": [
    "# **Finding Lane Lines on the Road** \n",
    "***\n",
    "In this project, you will use the tools you learned about in the lesson to identify lane lines on the road.  You can develop your pipeline on a series of individual images, and later apply the result to a video stream (really just a series of images). Check out the video clip \"raw-lines-example.mp4\" (also contained in this repository) to see what the output should look like after using the helper functions below. \n",
    "\n",
    "Once you have a result that looks roughly like \"raw-lines-example.mp4\", you'll need to get creative and try to average and/or extrapolate the line segments you've detected to map out the full extent of the lane lines.  You can see an example of the result you're going for in the video \"P1_example.mp4\".  Ultimately, you would like to draw just one line for the left side of the lane, and one for the right.\n",
    "\n",
    "---\n",
    "Let's have a look at our first image called 'test_images/solidWhiteRight.jpg'.  Run the 2 cells below (hit Shift-Enter or the \"play\" button above) to display the image.\n",
    "\n",
    "**Note: If, at any point, you encounter frozen display windows or other confounding issues, you can always start again with a clean slate by going to the \"Kernel\" menu above and selecting \"Restart & Clear Output\".**\n",
    "\n",
    "---"
   ]
  },
  {
   "cell_type": "markdown",
   "metadata": {},
   "source": [
    "**The tools you have are color selection, region of interest selection, grayscaling, Gaussian smoothing, Canny Edge Detection and Hough Tranform line detection.  You  are also free to explore and try other techniques that were not presented in the lesson.  Your goal is piece together a pipeline to detect the line segments in the image, then average/extrapolate them and draw them onto the image for display (as below).  Once you have a working pipeline, try it out on the video stream below.**\n",
    "\n",
    "---\n",
    "\n",
    "<figure>\n",
    " <img src=\"line-segments-example.jpg\" width=\"380\" alt=\"Combined Image\" />\n",
    " <figcaption>\n",
    " <p></p> \n",
    " <p style=\"text-align: center;\"> Your output should look something like this (above) after detecting line segments using the helper functions below </p> \n",
    " </figcaption>\n",
    "</figure>\n",
    " <p></p> \n",
    "<figure>\n",
    " <img src=\"laneLines_thirdPass.jpg\" width=\"380\" alt=\"Combined Image\" />\n",
    " <figcaption>\n",
    " <p></p> \n",
    " <p style=\"text-align: center;\"> Your goal is to connect/average/extrapolate line segments to get output like this</p> \n",
    " </figcaption>\n",
    "</figure>"
   ]
  },
  {
   "cell_type": "markdown",
   "metadata": {},
   "source": [
    "**Run the cell below to import some packages.  If you get an `import error` for a package you've already installed, try changing your kernel (select the Kernel menu above --> Change Kernel).  Still have problems?  Try relaunching Jupyter Notebook from the terminal prompt.  Also, see [this forum post](https://carnd-forums.udacity.com/cq/viewquestion.action?spaceKey=CAR&id=29496372&questionTitle=finding-lanes---import-cv2-fails-even-though-python-in-the-terminal-window-has-no-problem-with-import-cv2) for more troubleshooting tips.**  "
   ]
  },
  {
   "cell_type": "code",
   "execution_count": null,
   "metadata": {
    "collapsed": false
   },
   "outputs": [],
   "source": [
    "#importing some useful packages\n",
    "import matplotlib.pyplot as plt\n",
    "import matplotlib.image as mpimg\n",
    "import numpy as np\n",
    "import cv2\n",
    "%matplotlib inline"
   ]
  },
  {
   "cell_type": "code",
   "execution_count": null,
   "metadata": {
    "collapsed": false
   },
   "outputs": [],
   "source": [
    "#reading in an image\n",
    "image = mpimg.imread('test_images/solidWhiteRight.jpg')\n",
    "#printing out some stats and plotting\n",
    "print('This image is:', type(image), 'with dimesions:', image.shape)\n",
    "plt.imshow(image)  # if you wanted to show a single color channel image called 'gray', for example, call as plt.imshow(gray, cmap='gray')"
   ]
  },
  {
   "cell_type": "markdown",
   "metadata": {},
   "source": [
    "**Some OpenCV functions (beyond those introduced in the lesson) that might be useful for this project are:**\n",
    "\n",
    "`cv2.inRange()` for color selection  \n",
    "`cv2.fillPoly()` for regions selection  \n",
    "`cv2.line()` to draw lines on an image given endpoints  \n",
    "`cv2.addWeighted()` to coadd / overlay two images\n",
    "`cv2.cvtColor()` to grayscale or change color\n",
    "`cv2.imwrite()` to output images to file  \n",
    "`cv2.bitwise_and()` to apply a mask to an image\n",
    "\n",
    "**Check out the OpenCV documentation to learn about these and discover even more awesome functionality!**"
   ]
  },
  {
   "cell_type": "markdown",
   "metadata": {},
   "source": [
    "Below are some helper functions to help get you started. They should look familiar from the lesson!"
   ]
  },
  {
   "cell_type": "code",
   "execution_count": null,
   "metadata": {
    "collapsed": false
   },
   "outputs": [],
   "source": [
    "import math\n",
    "\n",
    "def grayscale(img):\n",
    "    \"\"\"Applies the Grayscale transform\n",
    "    This will return an image with only one color channel\n",
    "    but NOTE: to see the returned image as grayscale\n",
    "    (assuming your grayscaled image is called 'gray')\n",
    "    you should call plt.imshow(gray, cmap='gray')\"\"\"\n",
    "    return cv2.cvtColor(img, cv2.COLOR_RGB2GRAY)\n",
    "    # Or use BGR2GRAY if you read an image with cv2.imread()\n",
    "    # return cv2.cvtColor(img, cv2.COLOR_BGR2GRAY)\n",
    "    \n",
    "def canny(img, low_threshold, high_threshold):\n",
    "    \"\"\"Applies the Canny transform\"\"\"\n",
    "    return cv2.Canny(img, low_threshold, high_threshold)\n",
    "\n",
    "def gaussian_blur(img, kernel_size):\n",
    "    \"\"\"Applies a Gaussian Noise kernel\"\"\"\n",
    "    return cv2.GaussianBlur(img, (kernel_size, kernel_size), 0)\n",
    "\n",
    "def region_of_interest(img, vertices):\n",
    "    \"\"\"\n",
    "    Applies an image mask.\n",
    "    \n",
    "    Only keeps the region of the image defined by the polygon\n",
    "    formed from `vertices`. The rest of the image is set to black.\n",
    "    \"\"\"\n",
    "    #defining a blank mask to start with\n",
    "    mask = np.zeros_like(img)   \n",
    "    \n",
    "    #defining a 3 channel or 1 channel color to fill the mask with depending on the input image\n",
    "    if len(img.shape) > 2:\n",
    "        channel_count = img.shape[2]  # i.e. 3 or 4 depending on your image\n",
    "        ignore_mask_color = (255,) * channel_count\n",
    "    else:\n",
    "        ignore_mask_color = 255\n",
    "        \n",
    "    #filling pixels inside the polygon defined by \"vertices\" with the fill color    \n",
    "    cv2.fillPoly(mask, vertices, ignore_mask_color)\n",
    "    \n",
    "    #returning the image only where mask pixels are nonzero\n",
    "    masked_image = cv2.bitwise_and(img, mask)\n",
    "    return masked_image\n",
    "\n",
    "#def draw_lines(img, lines, color=[255, 0, 0], thickness=10):\n",
    "#    if lines is None:\n",
    "#        return\n",
    "#    right_lines=[]\n",
    "#    left_lines=[]\n",
    "#    for line in lines:\n",
    "#        for x1,y1,x2,y2 in line:\n",
    "    #        cv2.line(img,(x1,y1),(x2,y2),color,thickness)\n",
    "#            if ((y2-y1)/(x2-x1)) > 0:\n",
    "#                right_lines.append(line)\n",
    "#            else:\n",
    "#                left_lines.append(line)\n",
    "#    for line in right_lines:\n",
    "#        for x1,y1,x2,y2 in line:\n",
    "#            print(\"right: \")\n",
    "#            print(line)\n",
    "#            cv2.line(img,(x1,y1),(x2,y2),color,thickness)\n",
    "#    for line in left_lines:\n",
    "#        for x1,y1,x2,y2 in line:\n",
    "#            print(\"left: \")\n",
    "#            print(line)\n",
    "#            cv2.line(img,(x1,y1),(x2,y2),[0,255,0],thickness)\n",
    "def draw_lines(img, lines, color=[255, 0, 0], thickness=10):\n",
    "    \"\"\"\n",
    "    NOTE: this is the function you might want to use as a starting point once you want to \n",
    "    average/extrapolate the line segments you detect to map out the full\n",
    "    extent of the lane (going from the result shown in raw-lines-example.mp4\n",
    "    to that shown in P1_example.mp4).  \n",
    "    \n",
    "    Think about things like separating line segments by their \n",
    "    slope ((y2-y1)/(x2-x1)) to decide which segments are part of the left\n",
    "    line vs. the right line.  Then, you can average the position of each of \n",
    "    the lines and extrapolate to the top and bottom of the lane.\n",
    "    \n",
    "    This function draws `lines` with `color` and `thickness`.    \n",
    "    Lines are drawn on the image inplace (mutates the image).\n",
    "    If you want to make the lines semi-transparent, think about combining\n",
    "    this function with the weighted_img() function below\n",
    "    \"\"\"\n",
    "    if lines is None:\n",
    "        return\n",
    "    right_lines=[]\n",
    "    left_lines=[]\n",
    "    leftSlopeTotal=0\n",
    "    rightSlopeTotal=0\n",
    "    for line in lines:\n",
    "        for x1,y1,x2,y2 in line:\n",
    "            #cv2.line(img,(x1,y1),(x2,y2),[0,0,255],thickness)\n",
    "            #cv2.circle(img,(x1,y1), 20, (0,0,255), -1)\n",
    "            slope=((y2-y1)/(x2-x1))\n",
    "            if slope > 0.5:\n",
    "                right_lines.append([x1,y1,x2,y2])\n",
    "                rightSlopeTotal+=slope\n",
    "            elif slope < -0.5:\n",
    "                left_lines.append([x1,y1,x2,y2])\n",
    "                leftSlopeTotal+=slope\n",
    "                \n",
    "    #print(\"Left: \"+str(len(left_lines)))\n",
    "    #print(\"Right: \"+str(len(right_lines)))\n",
    "    \n",
    "    #\n",
    "    \n",
    "    #print(leftSlopeAverage)\n",
    "    #print(rightSlopeAverage)\n",
    "    #x1,y1,x2,y2\n",
    "    minRightX=0\n",
    "    maxRightX=0\n",
    "    minRightY=0\n",
    "    maxRightY=0\n",
    "    minLeftX=0\n",
    "    maxLeftX=0\n",
    "    minLeftY=0\n",
    "    maxLeftY=0\n",
    "    if len(right_lines)>0:\n",
    "    #if True:\n",
    "        minRightX=min(rline[0] for rline in right_lines)\n",
    "        maxRightX=max(rline[2] for rline in right_lines)\n",
    "        minRightY=min(rline[1] for rline in right_lines)\n",
    "        maxRightY=max(rline[3] for rline in right_lines)\n",
    "        \n",
    "    \n",
    "    if len(left_lines)>0:\n",
    "    #if True:\n",
    "        #Left line\n",
    "        minLeftX=min(lline[0] for lline in left_lines)\n",
    "        maxLeftX=max(lline[2] for lline in left_lines)\n",
    "        minLeftY=min(lline[3] for lline in left_lines)\n",
    "        maxLeftY=max(lline[1] for lline in left_lines)\n",
    "        \n",
    "        leftSlopeAverage=((minLeftY-maxLeftY)/(maxLeftX-minLeftX))\n",
    "        #leftSlopeAverage=leftSlopeTotal/len(left_lines)\n",
    "        #\n",
    "        leftB=maxLeftY-leftSlopeAverage*minLeftX\n",
    "        cv2.line(img,(int((max([maxRightY,maxLeftY])-leftB)/leftSlopeAverage),max([maxRightY,maxLeftY])),(int((min([minRightY,minLeftY])-leftB)/leftSlopeAverage) ,min([minRightY,minLeftY])),color,thickness)\n",
    "        #cv2.circle(img,(minLeftX,max([maxRightY,maxLeftY])), 10, (255,0,0), -1)\n",
    "    \n",
    "    if len(right_lines)>0:\n",
    "        \n",
    "        #rightSlopeAverage=rightSlopeTotal/len(right_lines)\n",
    "        rightSlopeAverage=((maxRightY-minRightY)/(maxRightX-minRightX))\n",
    "        #leftSlopeAverage=leftSlopeTotal/len(left_lines)\n",
    "        #\n",
    "        rightB=maxRightY-rightSlopeAverage*maxRightX\n",
    "        cv2.line(img,(int((max([maxRightY,maxLeftY])-rightB)/rightSlopeAverage),max([maxRightY,maxLeftY])),(int((min([minRightY,minLeftY])-rightB)/rightSlopeAverage),min([minRightY,minLeftY])),color,thickness)\n",
    "        #cv2.circle(img,(maxRightX,max([maxRightY,maxLeftY])), 10, (255,0,0), -1)\n",
    "    #if len(left_lines) < len(right_lines):(int((max([maxRightY,maxLeftY])-rightB)/rightSlopeAverage)\n",
    "        #print(\"left is broken\")\n",
    "    #else:\n",
    "        #print(\"right is broken\")\n",
    "    \n",
    "def hough_lines(img, rho, theta, threshold, min_line_len, max_line_gap):\n",
    "    \"\"\"\n",
    "    `img` should be the output of a Canny transform.\n",
    "        \n",
    "    Returns an image with hough lines drawn.\n",
    "    \"\"\"\n",
    "    lines = cv2.HoughLinesP(img, rho, theta, threshold, np.array([]), minLineLength=min_line_len, maxLineGap=max_line_gap)\n",
    "    line_img = np.zeros((img.shape[0], img.shape[1], 3), dtype=np.uint8)\n",
    "    draw_lines(line_img, lines)\n",
    "    return line_img\n",
    "\n",
    "# Python 3 has support for cool math symbols.\n",
    "\n",
    "def weighted_img(img, initial_img, α=0.8, β=1., λ=0.):\n",
    "    \"\"\"\n",
    "    `img` is the output of the hough_lines(), An image with lines drawn on it.\n",
    "    Should be a blank image (all black) with lines drawn on it.\n",
    "    \n",
    "    `initial_img` should be the image before any processing.\n",
    "    \n",
    "    The result image is computed as follows:\n",
    "    \n",
    "    initial_img * α + img * β + λ\n",
    "    NOTE: initial_img and img must be the same shape!\n",
    "    \"\"\"\n",
    "    return cv2.addWeighted(initial_img, α, img, β, λ)"
   ]
  },
  {
   "cell_type": "markdown",
   "metadata": {},
   "source": [
    "## Test on Images\n",
    "\n",
    "Now you should build your pipeline to work on the images in the directory \"test_images\"  \n",
    "**You should make sure your pipeline works well on these images before you try the videos.**"
   ]
  },
  {
   "cell_type": "code",
   "execution_count": null,
   "metadata": {
    "collapsed": false
   },
   "outputs": [],
   "source": [
    "import os\n",
    "os.listdir(\"test_images/\")"
   ]
  },
  {
   "cell_type": "markdown",
   "metadata": {},
   "source": [
    "run your solution on all test_images and make copies into the test_images directory)."
   ]
  },
  {
   "cell_type": "code",
   "execution_count": null,
   "metadata": {
    "collapsed": false
   },
   "outputs": [],
   "source": [
    "# TODO: Build your pipeline that will draw lane lines on the test_images\n",
    "# then save them to the test_images directory.\n",
    "for filename in os.listdir(\"test_images/\"):\n",
    "    if os.path.isfile(\"test_images/\"+filename):\n",
    "        image = mpimg.imread('test_images/'+filename)\n",
    "        ysize = image.shape[0]\n",
    "        xsize = image.shape[1]\n",
    "        # Note: always make a copy rather than simply using \"=\"\n",
    "        color_select = np.copy(image)\n",
    "        grayImage=grayscale(color_select)\n",
    "        #grayImage=np.copy(image)\n",
    "        red_threshold = 200\n",
    "        green_threshold = 200\n",
    "        blue_threshold = 70\n",
    "        rgb_threshold = [red_threshold, green_threshold, blue_threshold]\n",
    "        # Identify pixels below the threshold\n",
    "        thresholds = (image[:,:,0] < rgb_threshold[0]) \\\n",
    "                    | (image[:,:,1] < rgb_threshold[1]) \\\n",
    "                    | (image[:,:,2] < rgb_threshold[2])\n",
    "        grayImage[thresholds] = [0]\n",
    "    #    plt.imshow(grayImage,cmap='Greys_r')\n",
    "    #    plt.show()\n",
    "        \n",
    "        mask = np.zeros_like(grayImage)   \n",
    "        ignore_mask_color = 255\n",
    "        imshape = image.shape\n",
    "        vertices = np.array([[(0,imshape[0]),(480, 340), (580, 340), (imshape[1],imshape[0])]], dtype=np.int32)\n",
    "        cv2.fillPoly(mask, vertices, ignore_mask_color)\n",
    "        masked_gray = cv2.bitwise_and(grayImage, mask)\n",
    "        #plt.imshow(masked_gray,cmap='Greys_r')\n",
    "        #plt.show()\n",
    "        blurred=gaussian_blur(masked_gray,5)\n",
    "        edges=canny(blurred,100,200)\n",
    "        #plt.imshow(edges,cmap='Greys_r')\n",
    "        #plt.show()\n",
    "        #plt.imshow(masked_edges,cmap='Greys_r')\n",
    "        #plt.show()\n",
    "        # Define the Hough transform parameters\n",
    "        # Make a blank the same size as our image to draw on\n",
    "        rho = 2 # distance resolution in pixels of the Hough grid\n",
    "        theta = np.pi/180 # angular resolution in radians of the Hough grid\n",
    "        threshold = 15    # minimum number of votes (intersections in Hough grid cell)\n",
    "        min_line_length = 40 #minimum number of pixels making up a line\n",
    "        max_line_gap = 20    # maximum gap in pixels between connectable line segments\n",
    "        line_image = np.copy(image)*0 # creating a blank to draw lines on\n",
    "        \n",
    "        \n",
    "        # Run Hough on edge detected image\n",
    "        # Output \"lines\" is an array containing endpoints of detected line segments\n",
    "        line_image = hough_lines(edges, rho, theta, threshold,\n",
    "                                    min_line_length, max_line_gap)\n",
    "        # Iterate over the output \"lines\" and draw lines on a blank image\n",
    "        \n",
    "        \n",
    "        \n",
    "        # Draw the lines on the edge image\n",
    "        lines_edges = weighted_img(line_image,image, 0.8,  1, 0) \n",
    "        plt.imshow(lines_edges)\n",
    "        #plt.imshow(edges,cmap='Greys_r')\n",
    "        plt.show()\n",
    "        mpimg.imsave(\"test_images/results/\"+filename.replace('jpg','png'), lines_edges)"
   ]
  },
  {
   "cell_type": "markdown",
   "metadata": {},
   "source": [
    "## Test on Videos\n",
    "\n",
    "You know what's cooler than drawing lanes over images? Drawing lanes over video!\n",
    "\n",
    "We can test our solution on two provided videos:\n",
    "\n",
    "`solidWhiteRight.mp4`\n",
    "\n",
    "`solidYellowLeft.mp4`\n",
    "\n",
    "**Note: if you get an `import error` when you run the next cell, try changing your kernel (select the Kernel menu above --> Change Kernel).  Still have problems?  Try relaunching Jupyter Notebook from the terminal prompt. Also, check out [this forum post](https://carnd-forums.udacity.com/questions/22677062/answers/22677109) for more troubleshooting tips.**\n",
    "\n",
    "**If you get an error that looks like this:**\n",
    "```\n",
    "NeedDownloadError: Need ffmpeg exe. \n",
    "You can download it by calling: \n",
    "imageio.plugins.ffmpeg.download()\n",
    "```\n",
    "**Follow the instructions in the error message and check out [this forum post](https://carnd-forums.udacity.com/display/CAR/questions/26218840/import-videofileclip-error) for more troubleshooting tips across operating systems.**"
   ]
  },
  {
   "cell_type": "code",
   "execution_count": null,
   "metadata": {
    "collapsed": true
   },
   "outputs": [],
   "source": [
    "# Import everything needed to edit/save/watch video clips\n",
    "from moviepy.editor import VideoFileClip\n",
    "from IPython.display import HTML"
   ]
  },
  {
   "cell_type": "code",
   "execution_count": null,
   "metadata": {
    "collapsed": false
   },
   "outputs": [],
   "source": [
    "def process_image(image):\n",
    "    # NOTE: The output you return should be a color image (3 channel) for processing video below\n",
    "    # TODO: put your pipeline here,\n",
    "    # you should return the final output (image with lines are drawn on lanes)\n",
    "    ysize = image.shape[0]\n",
    "    xsize = image.shape[1]\n",
    "    # Note: always make a copy rather than simply using \"=\"\n",
    "    color_select = np.copy(image)\n",
    "    grayImage=grayscale(color_select)\n",
    "    #grayImage=np.copy(image)\n",
    "    red_threshold = 200\n",
    "    green_threshold = 200\n",
    "    blue_threshold = 70\n",
    "    rgb_threshold = [red_threshold, green_threshold, blue_threshold]\n",
    "    # Identify pixels below the threshold\n",
    "    thresholds = (image[:,:,0] < rgb_threshold[0]) \\\n",
    "                | (image[:,:,1] < rgb_threshold[1]) \\\n",
    "                | (image[:,:,2] < rgb_threshold[2])\n",
    "    grayImage[thresholds] = [0]\n",
    "    #plt.imshow(grayImage,cmap='Greys_r')\n",
    "    #plt.show()\n",
    "    \n",
    "    mask = np.zeros_like(grayImage)   \n",
    "    ignore_mask_color = 255\n",
    "    imshape = image.shape\n",
    "    vertices = np.array([[(0,imshape[0]),(480, 320), (580, 320), (imshape[1],imshape[0])]], dtype=np.int32)\n",
    "    cv2.fillPoly(mask, vertices, ignore_mask_color)\n",
    "    masked_gray = cv2.bitwise_and(grayImage, mask)\n",
    "    #plt.imshow(masked_gray,cmap='Greys_r')\n",
    "    #plt.show()\n",
    "    blurred=gaussian_blur(masked_gray,5)\n",
    "    edges=canny(blurred,100,200)\n",
    "    #plt.imshow(edges,cmap='Greys_r')\n",
    "    #plt.show()\n",
    "    #plt.imshow(masked_edges,cmap='Greys_r')\n",
    "    #plt.show()\n",
    "    # Define the Hough transform parameters\n",
    "    # Make a blank the same size as our image to draw on\n",
    "    rho = 2 # distance resolution in pixels of the Hough grid\n",
    "    theta = np.pi/180 # angular resolution in radians of the Hough grid\n",
    "    threshold =  15   # minimum number of votes (intersections in Hough grid cell)\n",
    "    min_line_length = 20 #minimum number of pixels making up a line\n",
    "    max_line_gap = 10    # maximum gap in pixels between connectable line segments\n",
    "    line_image = np.copy(image)*0 # creating a blank to draw lines on\n",
    "    \n",
    "    \n",
    "    # Run Hough on edge detected image\n",
    "    # Output \"lines\" is an array containing endpoints of detected line segments\n",
    "    line_image = hough_lines(edges, rho, theta, threshold,\n",
    "                                min_line_length, max_line_gap)\n",
    "    # Iterate over the output \"lines\" and draw lines on a blank image\n",
    "    \n",
    "    \n",
    "    \n",
    "    # Draw the lines on the edge image\n",
    "    lines_edges = weighted_img(line_image,image, 0.8,  1, 0) \n",
    "    return lines_edges"
   ]
  },
  {
   "cell_type": "markdown",
   "metadata": {},
   "source": [
    "Let's try the one with the solid white lane on the right first ..."
   ]
  },
  {
   "cell_type": "code",
   "execution_count": null,
   "metadata": {
    "collapsed": false
   },
   "outputs": [],
   "source": [
    "white_output = 'white.mp4'\n",
    "clip1 = VideoFileClip(\"solidWhiteRight.mp4\")\n",
    "white_clip = clip1.fl_image(process_image) #NOTE: this function expects color images!!\n",
    "%time white_clip.write_videofile(white_output, audio=False)"
   ]
  },
  {
   "cell_type": "markdown",
   "metadata": {},
   "source": [
    "Play the video inline, or if you prefer find the video in your filesystem (should be in the same directory) and play it in your video player of choice."
   ]
  },
  {
   "cell_type": "code",
   "execution_count": null,
   "metadata": {
    "collapsed": false
   },
   "outputs": [],
   "source": [
    "HTML(\"\"\"\n",
    "<video width=\"960\" height=\"540\" controls>\n",
    "  <source src=\"{0}\">\n",
    "</video>\n",
    "\"\"\".format(white_output))"
   ]
  },
  {
   "cell_type": "markdown",
   "metadata": {},
   "source": [
    "**At this point, if you were successful you probably have the Hough line segments drawn onto the road, but what about identifying the full extent of the lane and marking it clearly as in the example video (P1_example.mp4)?  Think about defining a line to run the full length of the visible lane based on the line segments you identified with the Hough Transform.  Modify your draw_lines function accordingly and try re-running your pipeline.**"
   ]
  },
  {
   "cell_type": "markdown",
   "metadata": {},
   "source": [
    "Now for the one with the solid yellow lane on the left. This one's more tricky!"
   ]
  },
  {
   "cell_type": "code",
   "execution_count": null,
   "metadata": {
    "collapsed": false
   },
   "outputs": [],
   "source": [
    "yellow_output = 'yellow.mp4'\n",
    "clip2 = VideoFileClip('solidYellowLeft.mp4')\n",
    "yellow_clip = clip2.fl_image(process_image)\n",
    "%time yellow_clip.write_videofile(yellow_output, audio=False)"
   ]
  },
  {
   "cell_type": "code",
   "execution_count": null,
   "metadata": {
    "collapsed": false,
    "scrolled": true
   },
   "outputs": [],
   "source": [
    "HTML(\"\"\"\n",
    "<video width=\"960\" height=\"540\" controls>\n",
    "  <source src=\"{0}\">\n",
    "</video>\n",
    "\"\"\".format(yellow_output))"
   ]
  },
  {
   "cell_type": "markdown",
   "metadata": {},
   "source": [
    "## Reflections\n",
    "\n",
    "Congratulations on finding the lane lines!  As the final step in this project, we would like you to share your thoughts on your lane finding pipeline... specifically, how could you imagine making your algorithm better / more robust?  Where will your current algorithm be likely to fail?\n",
    "\n",
    "Please add your thoughts below,  and if you're up for making your pipeline more robust, be sure to scroll down and check out the optional challenge video below!\n"
   ]
  },
  {
   "cell_type": "markdown",
   "metadata": {},
   "source": [
    "## Submission\n",
    "\n",
    "If you're satisfied with your video outputs it's time to submit!  Submit this ipython notebook for review.\n"
   ]
  },
  {
   "cell_type": "markdown",
   "metadata": {
    "collapsed": true
   },
   "source": [
    "## Optional Challenge\n",
    "\n",
    "Try your lane finding pipeline on the video below.  Does it still work?  Can you figure out a way to make it more robust?  If you're up for the challenge, modify your pipeline so it works with this video and submit it along with the rest of your project!"
   ]
  },
  {
   "cell_type": "code",
   "execution_count": null,
   "metadata": {
    "collapsed": false
   },
   "outputs": [],
   "source": [
    "challenge_output = 'extra.mp4'\n",
    "clip2 = VideoFileClip('challenge.mp4')\n",
    "challenge_clip = clip2.fl_image(process_image)\n",
    "%time challenge_clip.write_videofile(challenge_output, audio=False)"
   ]
  },
  {
   "cell_type": "code",
   "execution_count": null,
   "metadata": {
    "collapsed": false
   },
   "outputs": [],
   "source": [
    "HTML(\"\"\"\n",
    "<video width=\"960\" height=\"540\" controls>\n",
    "  <source src=\"{0}\">\n",
    "</video>\n",
    "\"\"\".format(challenge_output))"
   ]
  },
  {
   "cell_type": "code",
   "execution_count": null,
   "metadata": {
    "collapsed": false
   },
   "outputs": [],
   "source": []
  },
  {
   "cell_type": "code",
   "execution_count": null,
   "metadata": {
    "collapsed": false
   },
   "outputs": [],
   "source": []
  },
  {
   "cell_type": "code",
   "execution_count": null,
   "metadata": {
    "collapsed": true
   },
   "outputs": [],
   "source": []
  }
 ],
 "metadata": {
  "anaconda-cloud": {},
  "kernelspec": {
   "display_name": "Python 3",
   "language": "python",
   "name": "python3"
  },
  "language_info": {
   "codemirror_mode": {
    "name": "ipython",
    "version": 3
   },
   "file_extension": ".py",
   "mimetype": "text/x-python",
   "name": "python",
   "nbconvert_exporter": "python",
   "pygments_lexer": "ipython3",
   "version": "3.5.2"
  },
  "widgets": {
   "state": {},
   "version": "1.1.2"
  }
 },
 "nbformat": 4,
 "nbformat_minor": 0
}
